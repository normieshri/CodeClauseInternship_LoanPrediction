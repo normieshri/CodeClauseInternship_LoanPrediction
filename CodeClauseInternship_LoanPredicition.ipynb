{
  "metadata": {
    "kernelspec": {
      "language": "python",
      "display_name": "Python 3",
      "name": "python3"
    },
    "language_info": {
      "name": "python",
      "version": "3.7.10",
      "mimetype": "text/x-python",
      "codemirror_mode": {
        "name": "ipython",
        "version": 3
      },
      "pygments_lexer": "ipython3",
      "nbconvert_exporter": "python",
      "file_extension": ".py"
    },
    "kaggle": {
      "accelerator": "none",
      "dataSources": [
        {
          "sourceId": 21070,
          "sourceType": "datasetVersion",
          "datasetId": 15953
        },
        {
          "sourceId": 169310,
          "sourceType": "datasetVersion",
          "datasetId": 74581
        },
        {
          "sourceId": 213142,
          "sourceType": "datasetVersion",
          "datasetId": 91803
        },
        {
          "sourceId": 488290,
          "sourceType": "datasetVersion",
          "datasetId": 228063
        },
        {
          "sourceId": 1420931,
          "sourceType": "datasetVersion",
          "datasetId": 831855
        }
      ],
      "dockerImageVersionId": 30145,
      "isInternetEnabled": true,
      "language": "python",
      "sourceType": "notebook",
      "isGpuEnabled": false
    },
    "colab": {
      "provenance": []
    }
  },
  "nbformat_minor": 0,
  "nbformat": 4,
  "cells": [
    {
      "cell_type": "code",
      "source": [
        "import numpy as np\n",
        "import pandas as pd\n",
        "import matplotlib.pyplot as plt\n",
        "import missingno as mso\n",
        "import seaborn as sns\n",
        "\n",
        "from sklearn.metrics import accuracy_score,classification_report, confusion_matrix\n",
        "from sklearn.preprocessing import MinMaxScaler\n",
        "from sklearn.model_selection import train_test_split\n",
        "from imblearn.over_sampling import SMOTE\n",
        "\n",
        "from sklearn.linear_model import LogisticRegression\n",
        "from sklearn.ensemble import RandomForestClassifier,GradientBoostingClassifier"
      ],
      "metadata": {
        "id": "0tAGJPoeKrfI",
        "execution": {
          "iopub.status.busy": "2023-11-28T05:04:58.494495Z",
          "iopub.execute_input": "2023-11-28T05:04:58.494875Z",
          "iopub.status.idle": "2023-11-28T05:04:58.501583Z",
          "shell.execute_reply.started": "2023-11-28T05:04:58.494841Z",
          "shell.execute_reply": "2023-11-28T05:04:58.500528Z"
        },
        "trusted": true
      },
      "execution_count": 1,
      "outputs": []
    },
    {
      "cell_type": "markdown",
      "source": [
        "# Reading Data Set\n",
        "After importing libraries, we will also import the dataset that will be used."
      ],
      "metadata": {
        "id": "_3IOljdqgEd0"
      }
    },
    {
      "cell_type": "code",
      "source": [
        "df = pd.read_csv(\"/content/loan_data.csv\")\n",
        "df.head()"
      ],
      "metadata": {
        "id": "-9VxuECvXJIR",
        "outputId": "5bc803aa-06fb-4d95-fe07-7c33b2f6e83f",
        "execution": {
          "iopub.status.busy": "2023-11-28T05:04:58.507002Z",
          "iopub.execute_input": "2023-11-28T05:04:58.508427Z",
          "iopub.status.idle": "2023-11-28T05:04:58.546877Z",
          "shell.execute_reply.started": "2023-11-28T05:04:58.508364Z",
          "shell.execute_reply": "2023-11-28T05:04:58.545917Z"
        },
        "trusted": true,
        "colab": {
          "base_uri": "https://localhost:8080/",
          "height": 244
        }
      },
      "execution_count": 2,
      "outputs": [
        {
          "output_type": "execute_result",
          "data": {
            "text/plain": [
              "    Loan_ID Gender Married Dependents     Education Self_Employed  \\\n",
              "0  LP001002   Male      No          0      Graduate            No   \n",
              "1  LP001003   Male     Yes          1      Graduate            No   \n",
              "2  LP001005   Male     Yes          0      Graduate           Yes   \n",
              "3  LP001006   Male     Yes          0  Not Graduate            No   \n",
              "4  LP001008   Male      No          0      Graduate            No   \n",
              "\n",
              "   ApplicantIncome  CoapplicantIncome  LoanAmount  Loan_Amount_Term  \\\n",
              "0             5849                0.0         NaN             360.0   \n",
              "1             4583             1508.0       128.0             360.0   \n",
              "2             3000                0.0        66.0             360.0   \n",
              "3             2583             2358.0       120.0             360.0   \n",
              "4             6000                0.0       141.0             360.0   \n",
              "\n",
              "   Credit_History Property_Area Loan_Status  \n",
              "0             1.0         Urban           Y  \n",
              "1             1.0         Rural           N  \n",
              "2             1.0         Urban           Y  \n",
              "3             1.0         Urban           Y  \n",
              "4             1.0         Urban           Y  "
            ],
            "text/html": [
              "\n",
              "  <div id=\"df-e866ab3b-d068-4f2b-ad4b-71085cf4c230\" class=\"colab-df-container\">\n",
              "    <div>\n",
              "<style scoped>\n",
              "    .dataframe tbody tr th:only-of-type {\n",
              "        vertical-align: middle;\n",
              "    }\n",
              "\n",
              "    .dataframe tbody tr th {\n",
              "        vertical-align: top;\n",
              "    }\n",
              "\n",
              "    .dataframe thead th {\n",
              "        text-align: right;\n",
              "    }\n",
              "</style>\n",
              "<table border=\"1\" class=\"dataframe\">\n",
              "  <thead>\n",
              "    <tr style=\"text-align: right;\">\n",
              "      <th></th>\n",
              "      <th>Loan_ID</th>\n",
              "      <th>Gender</th>\n",
              "      <th>Married</th>\n",
              "      <th>Dependents</th>\n",
              "      <th>Education</th>\n",
              "      <th>Self_Employed</th>\n",
              "      <th>ApplicantIncome</th>\n",
              "      <th>CoapplicantIncome</th>\n",
              "      <th>LoanAmount</th>\n",
              "      <th>Loan_Amount_Term</th>\n",
              "      <th>Credit_History</th>\n",
              "      <th>Property_Area</th>\n",
              "      <th>Loan_Status</th>\n",
              "    </tr>\n",
              "  </thead>\n",
              "  <tbody>\n",
              "    <tr>\n",
              "      <th>0</th>\n",
              "      <td>LP001002</td>\n",
              "      <td>Male</td>\n",
              "      <td>No</td>\n",
              "      <td>0</td>\n",
              "      <td>Graduate</td>\n",
              "      <td>No</td>\n",
              "      <td>5849</td>\n",
              "      <td>0.0</td>\n",
              "      <td>NaN</td>\n",
              "      <td>360.0</td>\n",
              "      <td>1.0</td>\n",
              "      <td>Urban</td>\n",
              "      <td>Y</td>\n",
              "    </tr>\n",
              "    <tr>\n",
              "      <th>1</th>\n",
              "      <td>LP001003</td>\n",
              "      <td>Male</td>\n",
              "      <td>Yes</td>\n",
              "      <td>1</td>\n",
              "      <td>Graduate</td>\n",
              "      <td>No</td>\n",
              "      <td>4583</td>\n",
              "      <td>1508.0</td>\n",
              "      <td>128.0</td>\n",
              "      <td>360.0</td>\n",
              "      <td>1.0</td>\n",
              "      <td>Rural</td>\n",
              "      <td>N</td>\n",
              "    </tr>\n",
              "    <tr>\n",
              "      <th>2</th>\n",
              "      <td>LP001005</td>\n",
              "      <td>Male</td>\n",
              "      <td>Yes</td>\n",
              "      <td>0</td>\n",
              "      <td>Graduate</td>\n",
              "      <td>Yes</td>\n",
              "      <td>3000</td>\n",
              "      <td>0.0</td>\n",
              "      <td>66.0</td>\n",
              "      <td>360.0</td>\n",
              "      <td>1.0</td>\n",
              "      <td>Urban</td>\n",
              "      <td>Y</td>\n",
              "    </tr>\n",
              "    <tr>\n",
              "      <th>3</th>\n",
              "      <td>LP001006</td>\n",
              "      <td>Male</td>\n",
              "      <td>Yes</td>\n",
              "      <td>0</td>\n",
              "      <td>Not Graduate</td>\n",
              "      <td>No</td>\n",
              "      <td>2583</td>\n",
              "      <td>2358.0</td>\n",
              "      <td>120.0</td>\n",
              "      <td>360.0</td>\n",
              "      <td>1.0</td>\n",
              "      <td>Urban</td>\n",
              "      <td>Y</td>\n",
              "    </tr>\n",
              "    <tr>\n",
              "      <th>4</th>\n",
              "      <td>LP001008</td>\n",
              "      <td>Male</td>\n",
              "      <td>No</td>\n",
              "      <td>0</td>\n",
              "      <td>Graduate</td>\n",
              "      <td>No</td>\n",
              "      <td>6000</td>\n",
              "      <td>0.0</td>\n",
              "      <td>141.0</td>\n",
              "      <td>360.0</td>\n",
              "      <td>1.0</td>\n",
              "      <td>Urban</td>\n",
              "      <td>Y</td>\n",
              "    </tr>\n",
              "  </tbody>\n",
              "</table>\n",
              "</div>\n",
              "    <div class=\"colab-df-buttons\">\n",
              "\n",
              "  <div class=\"colab-df-container\">\n",
              "    <button class=\"colab-df-convert\" onclick=\"convertToInteractive('df-e866ab3b-d068-4f2b-ad4b-71085cf4c230')\"\n",
              "            title=\"Convert this dataframe to an interactive table.\"\n",
              "            style=\"display:none;\">\n",
              "\n",
              "  <svg xmlns=\"http://www.w3.org/2000/svg\" height=\"24px\" viewBox=\"0 -960 960 960\">\n",
              "    <path d=\"M120-120v-720h720v720H120Zm60-500h600v-160H180v160Zm220 220h160v-160H400v160Zm0 220h160v-160H400v160ZM180-400h160v-160H180v160Zm440 0h160v-160H620v160ZM180-180h160v-160H180v160Zm440 0h160v-160H620v160Z\"/>\n",
              "  </svg>\n",
              "    </button>\n",
              "\n",
              "  <style>\n",
              "    .colab-df-container {\n",
              "      display:flex;\n",
              "      gap: 12px;\n",
              "    }\n",
              "\n",
              "    .colab-df-convert {\n",
              "      background-color: #E8F0FE;\n",
              "      border: none;\n",
              "      border-radius: 50%;\n",
              "      cursor: pointer;\n",
              "      display: none;\n",
              "      fill: #1967D2;\n",
              "      height: 32px;\n",
              "      padding: 0 0 0 0;\n",
              "      width: 32px;\n",
              "    }\n",
              "\n",
              "    .colab-df-convert:hover {\n",
              "      background-color: #E2EBFA;\n",
              "      box-shadow: 0px 1px 2px rgba(60, 64, 67, 0.3), 0px 1px 3px 1px rgba(60, 64, 67, 0.15);\n",
              "      fill: #174EA6;\n",
              "    }\n",
              "\n",
              "    .colab-df-buttons div {\n",
              "      margin-bottom: 4px;\n",
              "    }\n",
              "\n",
              "    [theme=dark] .colab-df-convert {\n",
              "      background-color: #3B4455;\n",
              "      fill: #D2E3FC;\n",
              "    }\n",
              "\n",
              "    [theme=dark] .colab-df-convert:hover {\n",
              "      background-color: #434B5C;\n",
              "      box-shadow: 0px 1px 3px 1px rgba(0, 0, 0, 0.15);\n",
              "      filter: drop-shadow(0px 1px 2px rgba(0, 0, 0, 0.3));\n",
              "      fill: #FFFFFF;\n",
              "    }\n",
              "  </style>\n",
              "\n",
              "    <script>\n",
              "      const buttonEl =\n",
              "        document.querySelector('#df-e866ab3b-d068-4f2b-ad4b-71085cf4c230 button.colab-df-convert');\n",
              "      buttonEl.style.display =\n",
              "        google.colab.kernel.accessAllowed ? 'block' : 'none';\n",
              "\n",
              "      async function convertToInteractive(key) {\n",
              "        const element = document.querySelector('#df-e866ab3b-d068-4f2b-ad4b-71085cf4c230');\n",
              "        const dataTable =\n",
              "          await google.colab.kernel.invokeFunction('convertToInteractive',\n",
              "                                                    [key], {});\n",
              "        if (!dataTable) return;\n",
              "\n",
              "        const docLinkHtml = 'Like what you see? Visit the ' +\n",
              "          '<a target=\"_blank\" href=https://colab.research.google.com/notebooks/data_table.ipynb>data table notebook</a>'\n",
              "          + ' to learn more about interactive tables.';\n",
              "        element.innerHTML = '';\n",
              "        dataTable['output_type'] = 'display_data';\n",
              "        await google.colab.output.renderOutput(dataTable, element);\n",
              "        const docLink = document.createElement('div');\n",
              "        docLink.innerHTML = docLinkHtml;\n",
              "        element.appendChild(docLink);\n",
              "      }\n",
              "    </script>\n",
              "  </div>\n",
              "\n",
              "\n",
              "<div id=\"df-f4fc4526-0e20-4c21-81cd-bfc088d28dbc\">\n",
              "  <button class=\"colab-df-quickchart\" onclick=\"quickchart('df-f4fc4526-0e20-4c21-81cd-bfc088d28dbc')\"\n",
              "            title=\"Suggest charts\"\n",
              "            style=\"display:none;\">\n",
              "\n",
              "<svg xmlns=\"http://www.w3.org/2000/svg\" height=\"24px\"viewBox=\"0 0 24 24\"\n",
              "     width=\"24px\">\n",
              "    <g>\n",
              "        <path d=\"M19 3H5c-1.1 0-2 .9-2 2v14c0 1.1.9 2 2 2h14c1.1 0 2-.9 2-2V5c0-1.1-.9-2-2-2zM9 17H7v-7h2v7zm4 0h-2V7h2v10zm4 0h-2v-4h2v4z\"/>\n",
              "    </g>\n",
              "</svg>\n",
              "  </button>\n",
              "\n",
              "<style>\n",
              "  .colab-df-quickchart {\n",
              "      --bg-color: #E8F0FE;\n",
              "      --fill-color: #1967D2;\n",
              "      --hover-bg-color: #E2EBFA;\n",
              "      --hover-fill-color: #174EA6;\n",
              "      --disabled-fill-color: #AAA;\n",
              "      --disabled-bg-color: #DDD;\n",
              "  }\n",
              "\n",
              "  [theme=dark] .colab-df-quickchart {\n",
              "      --bg-color: #3B4455;\n",
              "      --fill-color: #D2E3FC;\n",
              "      --hover-bg-color: #434B5C;\n",
              "      --hover-fill-color: #FFFFFF;\n",
              "      --disabled-bg-color: #3B4455;\n",
              "      --disabled-fill-color: #666;\n",
              "  }\n",
              "\n",
              "  .colab-df-quickchart {\n",
              "    background-color: var(--bg-color);\n",
              "    border: none;\n",
              "    border-radius: 50%;\n",
              "    cursor: pointer;\n",
              "    display: none;\n",
              "    fill: var(--fill-color);\n",
              "    height: 32px;\n",
              "    padding: 0;\n",
              "    width: 32px;\n",
              "  }\n",
              "\n",
              "  .colab-df-quickchart:hover {\n",
              "    background-color: var(--hover-bg-color);\n",
              "    box-shadow: 0 1px 2px rgba(60, 64, 67, 0.3), 0 1px 3px 1px rgba(60, 64, 67, 0.15);\n",
              "    fill: var(--button-hover-fill-color);\n",
              "  }\n",
              "\n",
              "  .colab-df-quickchart-complete:disabled,\n",
              "  .colab-df-quickchart-complete:disabled:hover {\n",
              "    background-color: var(--disabled-bg-color);\n",
              "    fill: var(--disabled-fill-color);\n",
              "    box-shadow: none;\n",
              "  }\n",
              "\n",
              "  .colab-df-spinner {\n",
              "    border: 2px solid var(--fill-color);\n",
              "    border-color: transparent;\n",
              "    border-bottom-color: var(--fill-color);\n",
              "    animation:\n",
              "      spin 1s steps(1) infinite;\n",
              "  }\n",
              "\n",
              "  @keyframes spin {\n",
              "    0% {\n",
              "      border-color: transparent;\n",
              "      border-bottom-color: var(--fill-color);\n",
              "      border-left-color: var(--fill-color);\n",
              "    }\n",
              "    20% {\n",
              "      border-color: transparent;\n",
              "      border-left-color: var(--fill-color);\n",
              "      border-top-color: var(--fill-color);\n",
              "    }\n",
              "    30% {\n",
              "      border-color: transparent;\n",
              "      border-left-color: var(--fill-color);\n",
              "      border-top-color: var(--fill-color);\n",
              "      border-right-color: var(--fill-color);\n",
              "    }\n",
              "    40% {\n",
              "      border-color: transparent;\n",
              "      border-right-color: var(--fill-color);\n",
              "      border-top-color: var(--fill-color);\n",
              "    }\n",
              "    60% {\n",
              "      border-color: transparent;\n",
              "      border-right-color: var(--fill-color);\n",
              "    }\n",
              "    80% {\n",
              "      border-color: transparent;\n",
              "      border-right-color: var(--fill-color);\n",
              "      border-bottom-color: var(--fill-color);\n",
              "    }\n",
              "    90% {\n",
              "      border-color: transparent;\n",
              "      border-bottom-color: var(--fill-color);\n",
              "    }\n",
              "  }\n",
              "</style>\n",
              "\n",
              "  <script>\n",
              "    async function quickchart(key) {\n",
              "      const quickchartButtonEl =\n",
              "        document.querySelector('#' + key + ' button');\n",
              "      quickchartButtonEl.disabled = true;  // To prevent multiple clicks.\n",
              "      quickchartButtonEl.classList.add('colab-df-spinner');\n",
              "      try {\n",
              "        const charts = await google.colab.kernel.invokeFunction(\n",
              "            'suggestCharts', [key], {});\n",
              "      } catch (error) {\n",
              "        console.error('Error during call to suggestCharts:', error);\n",
              "      }\n",
              "      quickchartButtonEl.classList.remove('colab-df-spinner');\n",
              "      quickchartButtonEl.classList.add('colab-df-quickchart-complete');\n",
              "    }\n",
              "    (() => {\n",
              "      let quickchartButtonEl =\n",
              "        document.querySelector('#df-f4fc4526-0e20-4c21-81cd-bfc088d28dbc button');\n",
              "      quickchartButtonEl.style.display =\n",
              "        google.colab.kernel.accessAllowed ? 'block' : 'none';\n",
              "    })();\n",
              "  </script>\n",
              "</div>\n",
              "    </div>\n",
              "  </div>\n"
            ]
          },
          "metadata": {},
          "execution_count": 2
        }
      ]
    },
    {
      "cell_type": "code",
      "source": [
        "print(df.shape)"
      ],
      "metadata": {
        "id": "QLUH-tNjh1b8",
        "outputId": "36199b9f-b74d-4731-d6f2-018f15aa8d68",
        "execution": {
          "iopub.status.busy": "2023-11-28T05:04:58.548674Z",
          "iopub.execute_input": "2023-11-28T05:04:58.549016Z",
          "iopub.status.idle": "2023-11-28T05:04:58.554392Z",
          "shell.execute_reply.started": "2023-11-28T05:04:58.548947Z",
          "shell.execute_reply": "2023-11-28T05:04:58.553486Z"
        },
        "trusted": true,
        "colab": {
          "base_uri": "https://localhost:8080/"
        }
      },
      "execution_count": 3,
      "outputs": [
        {
          "output_type": "stream",
          "name": "stdout",
          "text": [
            "(614, 13)\n"
          ]
        }
      ]
    },
    {
      "cell_type": "code",
      "source": [
        "df.Loan_ID.value_counts(dropna=False)"
      ],
      "metadata": {
        "id": "NIqCAFjRi5Bo",
        "outputId": "373bf909-81ab-4779-8579-8f779bffb7df",
        "execution": {
          "iopub.status.busy": "2023-11-28T05:04:58.555673Z",
          "iopub.execute_input": "2023-11-28T05:04:58.555928Z",
          "iopub.status.idle": "2023-11-28T05:04:58.572103Z",
          "shell.execute_reply.started": "2023-11-28T05:04:58.555896Z",
          "shell.execute_reply": "2023-11-28T05:04:58.571210Z"
        },
        "trusted": true,
        "colab": {
          "base_uri": "https://localhost:8080/"
        }
      },
      "execution_count": 4,
      "outputs": [
        {
          "output_type": "execute_result",
          "data": {
            "text/plain": [
              "LP001002    1\n",
              "LP002328    1\n",
              "LP002305    1\n",
              "LP002308    1\n",
              "LP002314    1\n",
              "           ..\n",
              "LP001692    1\n",
              "LP001693    1\n",
              "LP001698    1\n",
              "LP001699    1\n",
              "LP002990    1\n",
              "Name: Loan_ID, Length: 614, dtype: int64"
            ]
          },
          "metadata": {},
          "execution_count": 4
        }
      ]
    },
    {
      "cell_type": "code",
      "source": [
        "df.Gender.value_counts(dropna=False)"
      ],
      "metadata": {
        "id": "-FCfZqBthMS9",
        "outputId": "3d247cbf-2157-4435-b426-2e3cdeeb3ac1",
        "execution": {
          "iopub.status.busy": "2023-11-28T05:04:58.573958Z",
          "iopub.execute_input": "2023-11-28T05:04:58.574283Z",
          "iopub.status.idle": "2023-11-28T05:04:58.593371Z",
          "shell.execute_reply.started": "2023-11-28T05:04:58.574246Z",
          "shell.execute_reply": "2023-11-28T05:04:58.592334Z"
        },
        "trusted": true,
        "colab": {
          "base_uri": "https://localhost:8080/"
        }
      },
      "execution_count": 5,
      "outputs": [
        {
          "output_type": "execute_result",
          "data": {
            "text/plain": [
              "Male      489\n",
              "Female    112\n",
              "NaN        13\n",
              "Name: Gender, dtype: int64"
            ]
          },
          "metadata": {},
          "execution_count": 5
        }
      ]
    },
    {
      "cell_type": "code",
      "source": [
        "sns.countplot(x=\"Gender\", data=df, palette=\"hls\")\n",
        "plt.show()"
      ],
      "metadata": {
        "id": "J4m9mVNniwED",
        "outputId": "3fb48e53-7337-4cf8-e343-a232abe5a709",
        "execution": {
          "iopub.status.busy": "2023-11-28T05:04:58.594858Z",
          "iopub.execute_input": "2023-11-28T05:04:58.595851Z",
          "iopub.status.idle": "2023-11-28T05:04:58.773614Z",
          "shell.execute_reply.started": "2023-11-28T05:04:58.595805Z",
          "shell.execute_reply": "2023-11-28T05:04:58.772944Z"
        },
        "trusted": true,
        "colab": {
          "base_uri": "https://localhost:8080/",
          "height": 449
        }
      },
      "execution_count": 6,
      "outputs": [
        {
          "output_type": "display_data",
          "data": {
            "text/plain": [
              "<Figure size 640x480 with 1 Axes>"
            ],
            "image/png": "[encoded data removed]"
          },
          "metadata": {}
        }
      ]
    },
    {
      "cell_type": "code",
      "source": [
        "countMale = len(df[df.Gender == 'Male'])\n",
        "countFemale = len(df[df.Gender == 'Female'])\n",
        "countNull = len(df[df.Gender.isnull()])\n",
        "\n",
        "print(\"Percentage of Male applicant: {:.2f}%\".format((countMale / (len(df.Gender))*100)))\n",
        "print(\"Percentage of Female applicant: {:.2f}%\".format((countFemale / (len(df.Gender))*100)))\n",
        "print(\"Missing values percentage: {:.2f}%\".format((countNull / (len(df.Gender))*100)))"
      ],
      "metadata": {
        "id": "P7dngibeoNnH",
        "outputId": "b3080f70-091e-47ee-ea1b-02d7e5736876",
        "execution": {
          "iopub.status.busy": "2023-11-28T05:04:58.774842Z",
          "iopub.execute_input": "2023-11-28T05:04:58.775703Z",
          "iopub.status.idle": "2023-11-28T05:04:58.787786Z",
          "shell.execute_reply.started": "2023-11-28T05:04:58.775656Z",
          "shell.execute_reply": "2023-11-28T05:04:58.786524Z"
        },
        "trusted": true,
        "colab": {
          "base_uri": "https://localhost:8080/"
        }
      },
      "execution_count": 7,
      "outputs": [
        {
          "output_type": "stream",
          "name": "stdout",
          "text": [
            "Percentage of Male applicant: 79.64%\n",
            "Percentage of Female applicant: 18.24%\n",
            "Missing values percentage: 2.12%\n"
          ]
        }
      ]
    },
    {
      "cell_type": "code",
      "source": [
        "df.Married.value_counts(dropna=False)"
      ],
      "metadata": {
        "id": "GxBR8uJpk95l",
        "outputId": "46413443-6016-41be-9ca2-6d283f6bc2a2",
        "execution": {
          "iopub.status.busy": "2023-11-28T05:04:58.789728Z",
          "iopub.execute_input": "2023-11-28T05:04:58.790560Z",
          "iopub.status.idle": "2023-11-28T05:04:58.803546Z",
          "shell.execute_reply.started": "2023-11-28T05:04:58.790516Z",
          "shell.execute_reply": "2023-11-28T05:04:58.802578Z"
        },
        "trusted": true,
        "colab": {
          "base_uri": "https://localhost:8080/"
        }
      },
      "execution_count": 8,
      "outputs": [
        {
          "output_type": "execute_result",
          "data": {
            "text/plain": [
              "Yes    398\n",
              "No     213\n",
              "NaN      3\n",
              "Name: Married, dtype: int64"
            ]
          },
          "metadata": {},
          "execution_count": 8
        }
      ]
    },
    {
      "cell_type": "code",
      "source": [
        "sns.countplot(x=\"Married\", data=df, palette=\"Paired\")\n",
        "plt.show()"
      ],
      "metadata": {
        "id": "7PSgGPJ-lNAI",
        "outputId": "c2dcd674-ea42-4929-d791-fc884752cf37",
        "execution": {
          "iopub.status.busy": "2023-11-28T05:04:58.804777Z",
          "iopub.execute_input": "2023-11-28T05:04:58.805055Z",
          "iopub.status.idle": "2023-11-28T05:04:58.949909Z",
          "shell.execute_reply.started": "2023-11-28T05:04:58.805014Z",
          "shell.execute_reply": "2023-11-28T05:04:58.948946Z"
        },
        "trusted": true,
        "colab": {
          "base_uri": "https://localhost:8080/",
          "height": 449
        }
      },
      "execution_count": 9,
      "outputs": [
        {
          "output_type": "display_data",
          "data": {
            "text/plain": [
              "<Figure size 640x480 with 1 Axes>"
            ],
            "image/png": "[encoded data removed]"
          },
          "metadata": {}
        }
      ]
    },
    {
      "cell_type": "markdown",
      "source": [
        "The number of applicants that has been married is higher compared to applicants that hasn't married. It also can be seen there are small number of missing values in this column."
      ],
      "metadata": {
        "id": "103tu8DvlV0V"
      }
    },
    {
      "cell_type": "code",
      "source": [
        "countMarried = len(df[df.Married == 'Yes'])\n",
        "countNotMarried = len(df[df.Married == 'No'])\n",
        "countNull = len(df[df.Married.isnull()])\n",
        "\n",
        "print(\"Percentage of married: {:.2f}%\".format((countMarried / (len(df.Married))*100)))\n",
        "print(\"Percentage of Not married applicant: {:.2f}%\".format((countNotMarried / (len(df.Married))*100)))\n",
        "print(\"Missing values percentage: {:.2f}%\".format((countNull / (len(df.Married))*100)))"
      ],
      "metadata": {
        "id": "Iy-ECFncpHOg",
        "outputId": "3c08c2b2-f287-41c9-99c9-98d9339ffe87",
        "execution": {
          "iopub.status.busy": "2023-11-28T05:04:58.951399Z",
          "iopub.execute_input": "2023-11-28T05:04:58.952318Z",
          "iopub.status.idle": "2023-11-28T05:04:58.969124Z",
          "shell.execute_reply.started": "2023-11-28T05:04:58.952265Z",
          "shell.execute_reply": "2023-11-28T05:04:58.967668Z"
        },
        "trusted": true,
        "colab": {
          "base_uri": "https://localhost:8080/"
        }
      },
      "execution_count": 10,
      "outputs": [
        {
          "output_type": "stream",
          "name": "stdout",
          "text": [
            "Percentage of married: 64.82%\n",
            "Percentage of Not married applicant: 34.69%\n",
            "Missing values percentage: 0.49%\n"
          ]
        }
      ]
    },
    {
      "cell_type": "code",
      "source": [
        "df.Education.value_counts(dropna=False)"
      ],
      "metadata": {
        "id": "Qqa3XmC5l3Wv",
        "outputId": "9171db7d-226c-4d5b-da9a-11c435a5b39d",
        "execution": {
          "iopub.status.busy": "2023-11-28T05:04:58.972988Z",
          "iopub.execute_input": "2023-11-28T05:04:58.973399Z",
          "iopub.status.idle": "2023-11-28T05:04:58.983249Z",
          "shell.execute_reply.started": "2023-11-28T05:04:58.973349Z",
          "shell.execute_reply": "2023-11-28T05:04:58.982305Z"
        },
        "trusted": true,
        "colab": {
          "base_uri": "https://localhost:8080/"
        }
      },
      "execution_count": 11,
      "outputs": [
        {
          "output_type": "execute_result",
          "data": {
            "text/plain": [
              "Graduate        480\n",
              "Not Graduate    134\n",
              "Name: Education, dtype: int64"
            ]
          },
          "metadata": {},
          "execution_count": 11
        }
      ]
    },
    {
      "cell_type": "code",
      "source": [
        "sns.countplot(x=\"Education\", data=df, palette=\"rocket\")\n",
        "plt.show()"
      ],
      "metadata": {
        "id": "rOSIyek7l3Wv",
        "outputId": "09dd6f06-d371-459b-9f22-33a87fd983f8",
        "execution": {
          "iopub.status.busy": "2023-11-28T05:04:58.984574Z",
          "iopub.execute_input": "2023-11-28T05:04:58.984836Z",
          "iopub.status.idle": "2023-11-28T05:04:59.166208Z",
          "shell.execute_reply.started": "2023-11-28T05:04:58.984802Z",
          "shell.execute_reply": "2023-11-28T05:04:59.165191Z"
        },
        "trusted": true,
        "colab": {
          "base_uri": "https://localhost:8080/",
          "height": 452
        }
      },
      "execution_count": 12,
      "outputs": [
        {
          "output_type": "display_data",
          "data": {
            "text/plain": [
              "<Figure size 640x480 with 1 Axes>"
            ],
            "image/png": "[encoded data removed]"
          },
          "metadata": {}
        }
      ]
    },
    {
      "cell_type": "code",
      "source": [
        "countGraduate = len(df[df.Education == 'Graduate'])\n",
        "countNotGraduate = len(df[df.Education == 'Not Graduate'])\n",
        "countNull = len(df[df.Education.isnull()])\n",
        "\n",
        "print(\"Percentage of graduate applicant: {:.2f}%\".format((countGraduate / (len(df.Education))*100)))\n",
        "print(\"Percentage of Not graduate applicant: {:.2f}%\".format((countNotGraduate / (len(df.Education))*100)))\n",
        "print(\"Missing values percentage: {:.2f}%\".format((countNull / (len(df.Education))*100)))"
      ],
      "metadata": {
        "id": "KswArAwgphLx",
        "outputId": "03522275-f212-445a-ddcf-83a6e8568164",
        "execution": {
          "iopub.status.busy": "2023-11-28T05:04:59.167588Z",
          "iopub.execute_input": "2023-11-28T05:04:59.167844Z",
          "iopub.status.idle": "2023-11-28T05:04:59.177727Z",
          "shell.execute_reply.started": "2023-11-28T05:04:59.167808Z",
          "shell.execute_reply": "2023-11-28T05:04:59.176791Z"
        },
        "trusted": true,
        "colab": {
          "base_uri": "https://localhost:8080/"
        }
      },
      "execution_count": 13,
      "outputs": [
        {
          "output_type": "stream",
          "name": "stdout",
          "text": [
            "Percentage of graduate applicant: 78.18%\n",
            "Percentage of Not graduate applicant: 21.82%\n",
            "Missing values percentage: 0.00%\n"
          ]
        }
      ]
    },
    {
      "cell_type": "code",
      "source": [
        "df.Self_Employed.value_counts(dropna=False)"
      ],
      "metadata": {
        "id": "_SkU0fcVmYMY",
        "outputId": "22204a6a-cf6a-4c44-f747-883f84bcd110",
        "execution": {
          "iopub.status.busy": "2023-11-28T05:04:59.179061Z",
          "iopub.execute_input": "2023-11-28T05:04:59.179313Z",
          "iopub.status.idle": "2023-11-28T05:04:59.193235Z",
          "shell.execute_reply.started": "2023-11-28T05:04:59.179281Z",
          "shell.execute_reply": "2023-11-28T05:04:59.192347Z"
        },
        "trusted": true,
        "colab": {
          "base_uri": "https://localhost:8080/"
        }
      },
      "execution_count": 14,
      "outputs": [
        {
          "output_type": "execute_result",
          "data": {
            "text/plain": [
              "No     500\n",
              "Yes     82\n",
              "NaN     32\n",
              "Name: Self_Employed, dtype: int64"
            ]
          },
          "metadata": {},
          "execution_count": 14
        }
      ]
    },
    {
      "cell_type": "code",
      "source": [
        "sns.countplot(x=\"Self_Employed\", data=df, palette=\"crest\")\n",
        "plt.show()"
      ],
      "metadata": {
        "id": "BMr-wTlFmYMZ",
        "outputId": "2924df1e-3d08-4546-8622-184a89d11969",
        "execution": {
          "iopub.status.busy": "2023-11-28T05:04:59.195070Z",
          "iopub.execute_input": "2023-11-28T05:04:59.195331Z",
          "iopub.status.idle": "2023-11-28T05:04:59.373270Z",
          "shell.execute_reply.started": "2023-11-28T05:04:59.195290Z",
          "shell.execute_reply": "2023-11-28T05:04:59.372310Z"
        },
        "trusted": true,
        "colab": {
          "base_uri": "https://localhost:8080/",
          "height": 450
        }
      },
      "execution_count": 15,
      "outputs": [
        {
          "output_type": "display_data",
          "data": {
            "text/plain": [
              "<Figure size 640x480 with 1 Axes>"
            ],
            "image/png": "[encoded data removed]"
          },
          "metadata": {}
        }
      ]
    },
    {
      "cell_type": "code",
      "source": [
        "countNo = len(df[df.Self_Employed == 'No'])\n",
        "countYes = len(df[df.Self_Employed == 'Yes'])\n",
        "countNull = len(df[df.Self_Employed.isnull()])\n",
        "\n",
        "print(\"Percentage of Not self employed: {:.2f}%\".format((countNo / (len(df.Self_Employed))*100)))\n",
        "print(\"Percentage of self employed: {:.2f}%\".format((countYes / (len(df.Self_Employed))*100)))\n",
        "print(\"Missing values percentage: {:.2f}%\".format((countNull / (len(df.Self_Employed))*100)))"
      ],
      "metadata": {
        "id": "EaJS6E0Xp1AT",
        "outputId": "21016b86-a34e-4ca8-8449-eb5258dab019",
        "execution": {
          "iopub.status.busy": "2023-11-28T05:04:59.374960Z",
          "iopub.execute_input": "2023-11-28T05:04:59.375563Z",
          "iopub.status.idle": "2023-11-28T05:04:59.388082Z",
          "shell.execute_reply.started": "2023-11-28T05:04:59.375517Z",
          "shell.execute_reply": "2023-11-28T05:04:59.386829Z"
        },
        "trusted": true,
        "colab": {
          "base_uri": "https://localhost:8080/"
        }
      },
      "execution_count": 16,
      "outputs": [
        {
          "output_type": "stream",
          "name": "stdout",
          "text": [
            "Percentage of Not self employed: 81.43%\n",
            "Percentage of self employed: 13.36%\n",
            "Missing values percentage: 5.21%\n"
          ]
        }
      ]
    },
    {
      "cell_type": "code",
      "source": [
        "df.Credit_History.value_counts(dropna=False)"
      ],
      "metadata": {
        "id": "KtdDjo95njGA",
        "outputId": "8a77ae82-db58-4078-e693-b82bdccf7a36",
        "execution": {
          "iopub.status.busy": "2023-11-28T05:04:59.389715Z",
          "iopub.execute_input": "2023-11-28T05:04:59.389947Z",
          "iopub.status.idle": "2023-11-28T05:04:59.402919Z",
          "shell.execute_reply.started": "2023-11-28T05:04:59.389918Z",
          "shell.execute_reply": "2023-11-28T05:04:59.402053Z"
        },
        "trusted": true,
        "colab": {
          "base_uri": "https://localhost:8080/"
        }
      },
      "execution_count": 17,
      "outputs": [
        {
          "output_type": "execute_result",
          "data": {
            "text/plain": [
              "1.0    475\n",
              "0.0     89\n",
              "NaN     50\n",
              "Name: Credit_History, dtype: int64"
            ]
          },
          "metadata": {},
          "execution_count": 17
        }
      ]
    },
    {
      "cell_type": "code",
      "source": [
        "sns.countplot(x=\"Credit_History\", data=df, palette=\"viridis\")\n",
        "plt.show()"
      ],
      "metadata": {
        "id": "VmNGGD6onjGB",
        "outputId": "29f21a3f-53a6-4d60-dc3d-cb2ec88c856a",
        "execution": {
          "iopub.status.busy": "2023-11-28T05:04:59.404192Z",
          "iopub.execute_input": "2023-11-28T05:04:59.404433Z",
          "iopub.status.idle": "2023-11-28T05:04:59.534738Z",
          "shell.execute_reply.started": "2023-11-28T05:04:59.404403Z",
          "shell.execute_reply": "2023-11-28T05:04:59.533703Z"
        },
        "trusted": true,
        "colab": {
          "base_uri": "https://localhost:8080/",
          "height": 450
        }
      },
      "execution_count": 18,
      "outputs": [
        {
          "output_type": "display_data",
          "data": {
            "text/plain": [
              "<Figure size 640x480 with 1 Axes>"
            ],
            "image/png": "[encoded data removed]"
          },
          "metadata": {}
        }
      ]
    },
    {
      "cell_type": "code",
      "source": [
        "count1 = len(df[df.Credit_History == 1])\n",
        "count0 = len(df[df.Credit_History == 0])\n",
        "countNull = len(df[df.Credit_History.isnull()])\n",
        "\n",
        "print(\"Percentage of Good credit history: {:.2f}%\".format((count1 / (len(df.Credit_History))*100)))\n",
        "print(\"Percentage of Bad credit history: {:.2f}%\".format((count0 / (len(df.Credit_History))*100)))\n",
        "print(\"Missing values percentage: {:.2f}%\".format((countNull / (len(df.Credit_History))*100)))"
      ],
      "metadata": {
        "id": "WdkcsU8vqK8Y",
        "outputId": "c86d3d0d-7a59-484c-9e8d-8b9dc2f27ea8",
        "execution": {
          "iopub.status.busy": "2023-11-28T05:04:59.538116Z",
          "iopub.execute_input": "2023-11-28T05:04:59.538437Z",
          "iopub.status.idle": "2023-11-28T05:04:59.552605Z",
          "shell.execute_reply.started": "2023-11-28T05:04:59.538397Z",
          "shell.execute_reply": "2023-11-28T05:04:59.551679Z"
        },
        "trusted": true,
        "colab": {
          "base_uri": "https://localhost:8080/"
        }
      },
      "execution_count": 19,
      "outputs": [
        {
          "output_type": "stream",
          "name": "stdout",
          "text": [
            "Percentage of Good credit history: 77.36%\n",
            "Percentage of Bad credit history: 14.50%\n",
            "Missing values percentage: 8.14%\n"
          ]
        }
      ]
    },
    {
      "cell_type": "markdown",
      "source": [
        "### 3.1.7 Property Area"
      ],
      "metadata": {
        "id": "vITK924Anjnn"
      }
    },
    {
      "cell_type": "code",
      "source": [
        "df.Property_Area.value_counts(dropna=False)"
      ],
      "metadata": {
        "id": "i4o2LfJ2njnn",
        "outputId": "dd9caa1e-12f5-4b58-8e11-dd54b11af58b",
        "execution": {
          "iopub.status.busy": "2023-11-28T05:04:59.556641Z",
          "iopub.execute_input": "2023-11-28T05:04:59.557088Z",
          "iopub.status.idle": "2023-11-28T05:04:59.568114Z",
          "shell.execute_reply.started": "2023-11-28T05:04:59.557050Z",
          "shell.execute_reply": "2023-11-28T05:04:59.567216Z"
        },
        "trusted": true,
        "colab": {
          "base_uri": "https://localhost:8080/"
        }
      },
      "execution_count": 20,
      "outputs": [
        {
          "output_type": "execute_result",
          "data": {
            "text/plain": [
              "Semiurban    233\n",
              "Urban        202\n",
              "Rural        179\n",
              "Name: Property_Area, dtype: int64"
            ]
          },
          "metadata": {},
          "execution_count": 20
        }
      ]
    },
    {
      "cell_type": "code",
      "source": [
        "sns.countplot(x=\"Property_Area\", data=df, palette=\"cubehelix\")\n",
        "plt.show()"
      ],
      "metadata": {
        "id": "29S5dnm6njnn",
        "outputId": "da008301-257a-493b-c2ca-bf2ec2a5a1dc",
        "execution": {
          "iopub.status.busy": "2023-11-28T05:04:59.569484Z",
          "iopub.execute_input": "2023-11-28T05:04:59.570277Z",
          "iopub.status.idle": "2023-11-28T05:04:59.708514Z",
          "shell.execute_reply.started": "2023-11-28T05:04:59.570232Z",
          "shell.execute_reply": "2023-11-28T05:04:59.707541Z"
        },
        "trusted": true,
        "colab": {
          "base_uri": "https://localhost:8080/",
          "height": 449
        }
      },
      "execution_count": 21,
      "outputs": [
        {
          "output_type": "display_data",
          "data": {
            "text/plain": [
              "<Figure size 640x480 with 1 Axes>"
            ],
            "image/png": "[encoded data removed]"
          },
          "metadata": {}
        }
      ]
    },
    {
      "cell_type": "code",
      "source": [
        "countUrban = len(df[df.Property_Area == 'Urban'])\n",
        "countRural = len(df[df.Property_Area == 'Rural'])\n",
        "countSemiurban = len(df[df.Property_Area == 'Semiurban'])\n",
        "countNull = len(df[df.Property_Area.isnull()])\n",
        "\n",
        "print(\"Percentage of Urban: {:.2f}%\".format((countUrban / (len(df.Property_Area))*100)))\n",
        "print(\"Percentage of Rural: {:.2f}%\".format((countRural / (len(df.Property_Area))*100)))\n",
        "print(\"Percentage of Semiurban: {:.2f}%\".format((countSemiurban / (len(df.Property_Area))*100)))\n",
        "print(\"Missing values percentage: {:.2f}%\".format((countNull / (len(df.Property_Area))*100)))"
      ],
      "metadata": {
        "id": "XoksMSh9raU_",
        "outputId": "3c76c195-e73d-4c0d-f47a-43b8b32ad1ec",
        "execution": {
          "iopub.status.busy": "2023-11-28T05:04:59.711878Z",
          "iopub.execute_input": "2023-11-28T05:04:59.712501Z",
          "iopub.status.idle": "2023-11-28T05:04:59.726612Z",
          "shell.execute_reply.started": "2023-11-28T05:04:59.712456Z",
          "shell.execute_reply": "2023-11-28T05:04:59.725856Z"
        },
        "trusted": true,
        "colab": {
          "base_uri": "https://localhost:8080/"
        }
      },
      "execution_count": 22,
      "outputs": [
        {
          "output_type": "stream",
          "name": "stdout",
          "text": [
            "Percentage of Urban: 32.90%\n",
            "Percentage of Rural: 29.15%\n",
            "Percentage of Semiurban: 37.95%\n",
            "Missing values percentage: 0.00%\n"
          ]
        }
      ]
    },
    {
      "cell_type": "code",
      "source": [
        "df.Loan_Status.value_counts(dropna=False)"
      ],
      "metadata": {
        "id": "wiumstnCnkCQ",
        "outputId": "6b6fd98b-6e78-4054-a77d-e0725fe04e17",
        "execution": {
          "iopub.status.busy": "2023-11-28T05:04:59.728471Z",
          "iopub.execute_input": "2023-11-28T05:04:59.730148Z",
          "iopub.status.idle": "2023-11-28T05:04:59.738395Z",
          "shell.execute_reply.started": "2023-11-28T05:04:59.730101Z",
          "shell.execute_reply": "2023-11-28T05:04:59.737487Z"
        },
        "trusted": true,
        "colab": {
          "base_uri": "https://localhost:8080/"
        }
      },
      "execution_count": 23,
      "outputs": [
        {
          "output_type": "execute_result",
          "data": {
            "text/plain": [
              "Y    422\n",
              "N    192\n",
              "Name: Loan_Status, dtype: int64"
            ]
          },
          "metadata": {},
          "execution_count": 23
        }
      ]
    },
    {
      "cell_type": "code",
      "source": [
        "sns.countplot(x=\"Loan_Status\", data=df, palette=\"YlOrBr\")\n",
        "plt.show()"
      ],
      "metadata": {
        "id": "uu0vT0SvnkCR",
        "outputId": "0ea7821b-1a2b-4e62-c6db-7a9f795eb914",
        "execution": {
          "iopub.status.busy": "2023-11-28T05:04:59.739841Z",
          "iopub.execute_input": "2023-11-28T05:04:59.740753Z",
          "iopub.status.idle": "2023-11-28T05:04:59.882703Z",
          "shell.execute_reply.started": "2023-11-28T05:04:59.740708Z",
          "shell.execute_reply": "2023-11-28T05:04:59.881798Z"
        },
        "trusted": true,
        "colab": {
          "base_uri": "https://localhost:8080/",
          "height": 449
        }
      },
      "execution_count": 24,
      "outputs": [
        {
          "output_type": "display_data",
          "data": {
            "text/plain": [
              "<Figure size 640x480 with 1 Axes>"
            ],
            "image/png": "[encoded data removed]"
          },
          "metadata": {}
        }
      ]
    },
    {
      "cell_type": "code",
      "source": [
        "countY = len(df[df.Loan_Status == 'Y'])\n",
        "countN = len(df[df.Loan_Status == 'N'])\n",
        "countNull = len(df[df.Loan_Status.isnull()])\n",
        "\n",
        "print(\"Percentage of Approved: {:.2f}%\".format((countY / (len(df.Loan_Status))*100)))\n",
        "print(\"Percentage of Rejected: {:.2f}%\".format((countN / (len(df.Loan_Status))*100)))\n",
        "print(\"Missing values percentage: {:.2f}%\".format((countNull / (len(df.Loan_Status))*100)))"
      ],
      "metadata": {
        "id": "nicivzzRsqZe",
        "outputId": "3e6ffec2-03cd-428b-8c3b-463377ea4c84",
        "execution": {
          "iopub.status.busy": "2023-11-28T05:04:59.884083Z",
          "iopub.execute_input": "2023-11-28T05:04:59.884826Z",
          "iopub.status.idle": "2023-11-28T05:04:59.897380Z",
          "shell.execute_reply.started": "2023-11-28T05:04:59.884777Z",
          "shell.execute_reply": "2023-11-28T05:04:59.896155Z"
        },
        "trusted": true
      },
      "execution_count": null,
      "outputs": [
        {
          "name": "stdout",
          "text": "Percentage of Approved: 68.73%\nPercentage of Rejected: 31.27%\nMissing values percentage: 0.00%\n",
          "output_type": "stream"
        }
      ]
    },
    {
      "cell_type": "markdown",
      "source": [
        "**The number of approved loans is higher compared to rejected loans . It also can be seen, there is no missing values in this column.**"
      ],
      "metadata": {
        "id": "Nj8btIZpnkCR"
      }
    },
    {
      "cell_type": "markdown",
      "source": [
        "### Loan Amount Term"
      ],
      "metadata": {
        "id": "uOKvRa2gO_j9"
      }
    },
    {
      "cell_type": "code",
      "source": [
        "df.Loan_Amount_Term.value_counts(dropna=False)"
      ],
      "metadata": {
        "id": "suUA8cOXO_kB",
        "outputId": "12318782-a8c4-456f-d772-4fb39a748e61",
        "execution": {
          "iopub.status.busy": "2023-11-28T05:04:59.898891Z",
          "iopub.execute_input": "2023-11-28T05:04:59.899636Z",
          "iopub.status.idle": "2023-11-28T05:04:59.917783Z",
          "shell.execute_reply.started": "2023-11-28T05:04:59.899589Z",
          "shell.execute_reply": "2023-11-28T05:04:59.916866Z"
        },
        "trusted": true
      },
      "execution_count": null,
      "outputs": [
        {
          "execution_count": 101,
          "output_type": "execute_result",
          "data": {
            "text/plain": "360.0    512\n180.0     44\n480.0     15\nNaN       14\n300.0     13\n240.0      4\n84.0       4\n120.0      3\n60.0       2\n36.0       2\n12.0       1\nName: Loan_Amount_Term, dtype: int64"
          },
          "metadata": {}
        }
      ]
    },
    {
      "cell_type": "code",
      "source": [
        "sns.countplot(x=\"Loan_Amount_Term\", data=df, palette=\"rocket\")\n",
        "plt.show()"
      ],
      "metadata": {
        "id": "19IBVpnZO_kC",
        "outputId": "3c50a271-b3fe-4c25-c73c-e189bef48966",
        "execution": {
          "iopub.status.busy": "2023-11-28T05:04:59.919431Z",
          "iopub.execute_input": "2023-11-28T05:04:59.920165Z",
          "iopub.status.idle": "2023-11-28T05:05:00.138654Z",
          "shell.execute_reply.started": "2023-11-28T05:04:59.920119Z",
          "shell.execute_reply": "2023-11-28T05:05:00.137846Z"
        },
        "trusted": true
      },
      "execution_count": null,
      "outputs": [
        {
          "output_type": "display_data",
          "data": {
            "text/plain": "<Figure size 432x288 with 1 Axes>",
            "image/png": "[encoded data removed]"
          },
          "metadata": {}
        }
      ]
    },
    {
      "cell_type": "code",
      "source": [
        "count12 = len(df[df.Loan_Amount_Term == 12.0])\n",
        "count36 = len(df[df.Loan_Amount_Term == 36.0])\n",
        "count60 = len(df[df.Loan_Amount_Term == 60.0])\n",
        "count84 = len(df[df.Loan_Amount_Term == 84.0])\n",
        "count120 = len(df[df.Loan_Amount_Term == 120.0])\n",
        "count180 = len(df[df.Loan_Amount_Term == 180.0])\n",
        "count240 = len(df[df.Loan_Amount_Term == 240.0])\n",
        "count300 = len(df[df.Loan_Amount_Term == 300.0])\n",
        "count360 = len(df[df.Loan_Amount_Term == 360.0])\n",
        "count480 = len(df[df.Loan_Amount_Term == 480.0])\n",
        "countNull = len(df[df.Loan_Amount_Term.isnull()])\n",
        "\n",
        "print(\"Percentage of 12: {:.2f}%\".format((count12 / (len(df.Loan_Amount_Term))*100)))\n",
        "print(\"Percentage of 36: {:.2f}%\".format((count36 / (len(df.Loan_Amount_Term))*100)))\n",
        "print(\"Percentage of 60: {:.2f}%\".format((count60 / (len(df.Loan_Amount_Term))*100)))\n",
        "print(\"Percentage of 84: {:.2f}%\".format((count84 / (len(df.Loan_Amount_Term))*100)))\n",
        "print(\"Percentage of 120: {:.2f}%\".format((count120 / (len(df.Loan_Amount_Term))*100)))\n",
        "print(\"Percentage of 180: {:.2f}%\".format((count180 / (len(df.Loan_Amount_Term))*100)))\n",
        "print(\"Percentage of 240: {:.2f}%\".format((count240 / (len(df.Loan_Amount_Term))*100)))\n",
        "print(\"Percentage of 300: {:.2f}%\".format((count300 / (len(df.Loan_Amount_Term))*100)))\n",
        "print(\"Percentage of 360: {:.2f}%\".format((count360 / (len(df.Loan_Amount_Term))*100)))\n",
        "print(\"Percentage of 480: {:.2f}%\".format((count480 / (len(df.Loan_Amount_Term))*100)))\n",
        "print(\"Missing values percentage: {:.2f}%\".format((countNull / (len(df.Loan_Amount_Term))*100)))"
      ],
      "metadata": {
        "id": "4I7KGiUiO_kC",
        "outputId": "831b5372-2b68-40ae-8c9f-bade309f9b71",
        "execution": {
          "iopub.status.busy": "2023-11-28T05:05:00.140223Z",
          "iopub.execute_input": "2023-11-28T05:05:00.140825Z",
          "iopub.status.idle": "2023-11-28T05:05:00.163159Z",
          "shell.execute_reply.started": "2023-11-28T05:05:00.140779Z",
          "shell.execute_reply": "2023-11-28T05:05:00.161811Z"
        },
        "trusted": true
      },
      "execution_count": null,
      "outputs": [
        {
          "name": "stdout",
          "text": "Percentage of 12: 0.16%\nPercentage of 36: 0.33%\nPercentage of 60: 0.33%\nPercentage of 84: 0.65%\nPercentage of 120: 0.49%\nPercentage of 180: 7.17%\nPercentage of 240: 0.65%\nPercentage of 300: 2.12%\nPercentage of 360: 83.39%\nPercentage of 480: 2.44%\nMissing values percentage: 2.28%\n",
          "output_type": "stream"
        }
      ]
    },
    {
      "cell_type": "code",
      "source": [
        "df[['ApplicantIncome','CoapplicantIncome','LoanAmount']].describe()"
      ],
      "metadata": {
        "id": "JYmOMnqitb6s",
        "outputId": "98a0a42e-77d1-4a12-a92e-58cf5a317392",
        "execution": {
          "iopub.status.busy": "2023-11-28T05:05:00.167401Z",
          "iopub.execute_input": "2023-11-28T05:05:00.168273Z",
          "iopub.status.idle": "2023-11-28T05:05:00.190829Z",
          "shell.execute_reply.started": "2023-11-28T05:05:00.168231Z",
          "shell.execute_reply": "2023-11-28T05:05:00.190015Z"
        },
        "trusted": true
      },
      "execution_count": null,
      "outputs": [
        {
          "execution_count": 104,
          "output_type": "execute_result",
          "data": {
            "text/plain": "       ApplicantIncome  CoapplicantIncome  LoanAmount\ncount       614.000000         614.000000  592.000000\nmean       5403.459283        1621.245798  146.412162\nstd        6109.041673        2926.248369   85.587325\nmin         150.000000           0.000000    9.000000\n25%        2877.500000           0.000000  100.000000\n50%        3812.500000        1188.500000  128.000000\n75%        5795.000000        2297.250000  168.000000\nmax       81000.000000       41667.000000  700.000000",
            "text/html": "<div>\n<style scoped>\n    .dataframe tbody tr th:only-of-type {\n        vertical-align: middle;\n    }\n\n    .dataframe tbody tr th {\n        vertical-align: top;\n    }\n\n    .dataframe thead th {\n        text-align: right;\n    }\n</style>\n<table border=\"1\" class=\"dataframe\">\n  <thead>\n    <tr style=\"text-align: right;\">\n      <th></th>\n      <th>ApplicantIncome</th>\n      <th>CoapplicantIncome</th>\n      <th>LoanAmount</th>\n    </tr>\n  </thead>\n  <tbody>\n    <tr>\n      <th>count</th>\n      <td>614.000000</td>\n      <td>614.000000</td>\n      <td>592.000000</td>\n    </tr>\n    <tr>\n      <th>mean</th>\n      <td>5403.459283</td>\n      <td>1621.245798</td>\n      <td>146.412162</td>\n    </tr>\n    <tr>\n      <th>std</th>\n      <td>6109.041673</td>\n      <td>2926.248369</td>\n      <td>85.587325</td>\n    </tr>\n    <tr>\n      <th>min</th>\n      <td>150.000000</td>\n      <td>0.000000</td>\n      <td>9.000000</td>\n    </tr>\n    <tr>\n      <th>25%</th>\n      <td>2877.500000</td>\n      <td>0.000000</td>\n      <td>100.000000</td>\n    </tr>\n    <tr>\n      <th>50%</th>\n      <td>3812.500000</td>\n      <td>1188.500000</td>\n      <td>128.000000</td>\n    </tr>\n    <tr>\n      <th>75%</th>\n      <td>5795.000000</td>\n      <td>2297.250000</td>\n      <td>168.000000</td>\n    </tr>\n    <tr>\n      <th>max</th>\n      <td>81000.000000</td>\n      <td>41667.000000</td>\n      <td>700.000000</td>\n    </tr>\n  </tbody>\n</table>\n</div>"
          },
          "metadata": {}
        }
      ]
    },
    {
      "cell_type": "markdown",
      "source": [
        "### Distribution of Numerical Variable\n",
        "In this section, I will show the distribution of numerical variable using histogram and violin plot."
      ],
      "metadata": {
        "id": "xVh_xjKZNFtZ"
      }
    },
    {
      "cell_type": "markdown",
      "source": [
        "#### Histogram Distribution 📉"
      ],
      "metadata": {
        "id": "26oBuCCFRHdt"
      }
    },
    {
      "cell_type": "code",
      "source": [
        "sns.set(style=\"darkgrid\")\n",
        "fig, axs = plt.subplots(2, 2, figsize=(10, 8))\n",
        "\n",
        "sns.histplot(data=df, x=\"ApplicantIncome\", kde=True, ax=axs[0, 0], color='green')\n",
        "sns.histplot(data=df, x=\"CoapplicantIncome\", kde=True, ax=axs[0, 1], color='skyblue')\n",
        "sns.histplot(data=df, x=\"LoanAmount\", kde=True, ax=axs[1, 0], color='orange');"
      ],
      "metadata": {
        "id": "nNQVNECjOV_R",
        "outputId": "ba7251ca-eb6a-4b94-bd03-8fbfd8d89a67",
        "execution": {
          "iopub.status.busy": "2023-11-28T05:05:00.192027Z",
          "iopub.execute_input": "2023-11-28T05:05:00.192308Z",
          "iopub.status.idle": "2023-11-28T05:05:01.528541Z",
          "shell.execute_reply.started": "2023-11-28T05:05:00.192278Z",
          "shell.execute_reply": "2023-11-28T05:05:01.527909Z"
        },
        "trusted": true
      },
      "execution_count": null,
      "outputs": [
        {
          "output_type": "display_data",
          "data": {
            "text/plain": "<Figure size 720x576 with 4 Axes>",
            "image/png": "[encoded data removed]"
          },
          "metadata": {}
        }
      ]
    },
    {
      "cell_type": "markdown",
      "source": [
        "####  Violin Plot"
      ],
      "metadata": {
        "id": "Wm-uWGyORLEh"
      }
    },
    {
      "cell_type": "code",
      "source": [
        "sns.set(style=\"darkgrid\")\n",
        "fig, axs1 = plt.subplots(2, 2, figsize=(10, 10))\n",
        "\n",
        "sns.violinplot(data=df, y=\"ApplicantIncome\", ax=axs1[0, 0], color='green')\n",
        "sns.violinplot(data=df, y=\"CoapplicantIncome\", ax=axs1[0, 1], color='skyblue')\n",
        "sns.violinplot(data=df, y=\"LoanAmount\", ax=axs1[1, 0], color='orange');"
      ],
      "metadata": {
        "id": "bqcMEGfUQDTM",
        "outputId": "38c360e8-3eb2-4b27-d939-7f3aa256c951",
        "execution": {
          "iopub.status.busy": "2023-11-28T05:05:01.529561Z",
          "iopub.execute_input": "2023-11-28T05:05:01.529911Z",
          "iopub.status.idle": "2023-11-28T05:05:02.128429Z",
          "shell.execute_reply.started": "2023-11-28T05:05:01.529881Z",
          "shell.execute_reply": "2023-11-28T05:05:02.127456Z"
        },
        "trusted": true
      },
      "execution_count": null,
      "outputs": [
        {
          "output_type": "display_data",
          "data": {
            "text/plain": "<Figure size 720x720 with 4 Axes>",
            "image/png": "[encoded data removed]"
          },
          "metadata": {}
        }
      ]
    },
    {
      "cell_type": "markdown",
      "source": [
        "*   The distribution of **Applicant income, Co Applicant Income, and Loan Amount** are **positively skewed** and **it has outliers** (can be seen from both histogram and violin plot).\n",
        "*   The distribution of **Loan Amount Term** is **negativly skewed** and **it has outliers.**\n",
        "\n"
      ],
      "metadata": {
        "id": "26VEP1r5SyM_"
      }
    },
    {
      "cell_type": "markdown",
      "source": [
        "### Categorical - Numerical"
      ],
      "metadata": {
        "id": "GkPfU3KQdJvH"
      }
    },
    {
      "cell_type": "code",
      "source": [
        "sns.boxplot(x=\"Loan_Status\", y=\"ApplicantIncome\", data=df, palette=\"mako\");"
      ],
      "metadata": {
        "id": "8KXyIhTWdNoP",
        "outputId": "bd86772f-6998-4945-9f6e-840becad037d",
        "execution": {
          "iopub.status.busy": "2023-11-28T05:05:02.129644Z",
          "iopub.execute_input": "2023-11-28T05:05:02.129887Z",
          "iopub.status.idle": "2023-11-28T05:05:02.323899Z",
          "shell.execute_reply.started": "2023-11-28T05:05:02.129856Z",
          "shell.execute_reply": "2023-11-28T05:05:02.322861Z"
        },
        "trusted": true
      },
      "execution_count": null,
      "outputs": [
        {
          "output_type": "display_data",
          "data": {
            "text/plain": "<Figure size 432x288 with 1 Axes>",
            "image/png": "[encoded data removed]"
          },
          "metadata": {}
        }
      ]
    },
    {
      "cell_type": "code",
      "source": [
        "sns.boxplot(x=\"CoapplicantIncome\", y=\"Loan_Status\", data=df, palette=\"rocket\");"
      ],
      "metadata": {
        "id": "UQgw9pSSdNgK",
        "outputId": "1b8f1689-5929-4d51-d774-8ebc72803330",
        "execution": {
          "iopub.status.busy": "2023-11-28T05:05:02.325032Z",
          "iopub.execute_input": "2023-11-28T05:05:02.325513Z",
          "iopub.status.idle": "2023-11-28T05:05:02.545345Z",
          "shell.execute_reply.started": "2023-11-28T05:05:02.325481Z",
          "shell.execute_reply": "2023-11-28T05:05:02.544432Z"
        },
        "trusted": true
      },
      "execution_count": null,
      "outputs": [
        {
          "output_type": "display_data",
          "data": {
            "text/plain": "<Figure size 432x288 with 1 Axes>",
            "image/png": "[encoded data removed]"
          },
          "metadata": {}
        }
      ]
    },
    {
      "cell_type": "code",
      "source": [
        "sns.boxplot(x=\"Loan_Status\", y=\"LoanAmount\", data=df, palette=\"YlOrBr\");"
      ],
      "metadata": {
        "id": "341fyImTdNO9",
        "outputId": "e2f5ee90-ebc8-446d-8d75-d8de51872e3b",
        "execution": {
          "iopub.status.busy": "2023-11-28T05:05:02.546569Z",
          "iopub.execute_input": "2023-11-28T05:05:02.546821Z",
          "iopub.status.idle": "2023-11-28T05:05:02.757917Z",
          "shell.execute_reply.started": "2023-11-28T05:05:02.546788Z",
          "shell.execute_reply": "2023-11-28T05:05:02.757045Z"
        },
        "trusted": true
      },
      "execution_count": null,
      "outputs": [
        {
          "output_type": "display_data",
          "data": {
            "text/plain": "<Figure size 432x288 with 1 Axes>",
            "image/png": "[encoded data removed]"
          },
          "metadata": {}
        }
      ]
    },
    {
      "cell_type": "markdown",
      "source": [
        "As can be seen, Co Applicant Income has a high number of outliers, and the distribution is also positively skewed."
      ],
      "metadata": {
        "id": "35BpJYOJio5M"
      }
    },
    {
      "cell_type": "markdown",
      "source": [
        "##  Handling Null Values"
      ],
      "metadata": {
        "id": "Jq0D9_A1VSV9"
      }
    },
    {
      "cell_type": "code",
      "source": [
        "df.isnull().sum()"
      ],
      "metadata": {
        "id": "Buorzh0-VVPS",
        "outputId": "6592eeef-9c3c-4d11-f84c-30b18d4f25a2",
        "execution": {
          "iopub.status.busy": "2023-11-28T05:05:02.759653Z",
          "iopub.execute_input": "2023-11-28T05:05:02.760016Z",
          "iopub.status.idle": "2023-11-28T05:05:02.772668Z",
          "shell.execute_reply.started": "2023-11-28T05:05:02.759950Z",
          "shell.execute_reply": "2023-11-28T05:05:02.771879Z"
        },
        "trusted": true
      },
      "execution_count": null,
      "outputs": [
        {
          "execution_count": 110,
          "output_type": "execute_result",
          "data": {
            "text/plain": "Loan_ID               0\nGender               13\nMarried               3\nDependents           15\nEducation             0\nSelf_Employed        32\nApplicantIncome       0\nCoapplicantIncome     0\nLoanAmount           22\nLoan_Amount_Term     14\nCredit_History       50\nProperty_Area         0\nLoan_Status           0\ndtype: int64"
          },
          "metadata": {}
        }
      ]
    },
    {
      "cell_type": "code",
      "source": [
        "plt.figure(figsize = (24, 5))\n",
        "axz = plt.subplot(1,2,2)\n",
        "mso.bar(df, ax = axz, fontsize = 12);"
      ],
      "metadata": {
        "id": "MSESe0JvVZ67",
        "outputId": "87a1f38f-1c71-4869-fd76-d389e5cc80be",
        "execution": {
          "iopub.status.busy": "2023-11-28T05:05:02.773786Z",
          "iopub.execute_input": "2023-11-28T05:05:02.774030Z",
          "iopub.status.idle": "2023-11-28T05:05:04.032364Z",
          "shell.execute_reply.started": "2023-11-28T05:05:02.774001Z",
          "shell.execute_reply": "2023-11-28T05:05:04.031019Z"
        },
        "trusted": true
      },
      "execution_count": null,
      "outputs": [
        {
          "output_type": "display_data",
          "data": {
            "text/plain": "<Figure size 1728x360 with 3 Axes>",
            "image/png": "[encoded data removed]"
          },
          "metadata": {}
        }
      ]
    },
    {
      "cell_type": "markdown",
      "source": [
        "# Dat pre processing\n"
      ],
      "metadata": {
        "id": "i0K8wc4UVyX2"
      }
    },
    {
      "cell_type": "markdown",
      "source": [
        "##  Drop Unecessary Variables\n"
      ],
      "metadata": {
        "id": "_JhvC2qZW4ke"
      }
    },
    {
      "cell_type": "code",
      "source": [
        "df = df.drop(['Loan_ID'], axis = 1)"
      ],
      "metadata": {
        "id": "w255orBlXxSC",
        "execution": {
          "iopub.status.busy": "2023-11-28T05:05:04.034272Z",
          "iopub.execute_input": "2023-11-28T05:05:04.035120Z",
          "iopub.status.idle": "2023-11-28T05:05:04.043781Z",
          "shell.execute_reply.started": "2023-11-28T05:05:04.035059Z",
          "shell.execute_reply": "2023-11-28T05:05:04.042457Z"
        },
        "trusted": true
      },
      "execution_count": null,
      "outputs": []
    },
    {
      "cell_type": "markdown",
      "source": [
        "## Data Imputation"
      ],
      "metadata": {
        "id": "E9RXvNsoV16b"
      }
    },
    {
      "cell_type": "markdown",
      "source": [
        "### Categorical Variables\n",
        "In this section, the imputation for categorical variables will be performed using **mode**."
      ],
      "metadata": {
        "id": "uziNPF4eGlyJ"
      }
    },
    {
      "cell_type": "code",
      "source": [
        "df['Gender'].fillna(df['Gender'].mode()[0],inplace=True)\n",
        "df['Married'].fillna(df['Married'].mode()[0],inplace=True)\n",
        "df['Dependents'].fillna(df['Dependents'].mode()[0],inplace=True)\n",
        "df['Self_Employed'].fillna(df['Self_Employed'].mode()[0],inplace=True)\n",
        "df['Credit_History'].fillna(df['Credit_History'].mode()[0],inplace=True)\n",
        "df['Loan_Amount_Term'].fillna(df['Loan_Amount_Term'].mode()[0],inplace=True)"
      ],
      "metadata": {
        "id": "1Dna_U33V09a",
        "execution": {
          "iopub.status.busy": "2023-11-28T05:05:04.046439Z",
          "iopub.execute_input": "2023-11-28T05:05:04.047272Z",
          "iopub.status.idle": "2023-11-28T05:05:04.063139Z",
          "shell.execute_reply.started": "2023-11-28T05:05:04.047215Z",
          "shell.execute_reply": "2023-11-28T05:05:04.062126Z"
        },
        "trusted": true
      },
      "execution_count": null,
      "outputs": []
    },
    {
      "cell_type": "markdown",
      "source": [
        "### Numerical Variables\n",
        "The next section is imputation for numerical variables using **mean**."
      ],
      "metadata": {
        "id": "7s3L4BM0Gvpr"
      }
    },
    {
      "cell_type": "code",
      "source": [
        "df['LoanAmount'].fillna(df['LoanAmount'].mean(),inplace=True)"
      ],
      "metadata": {
        "id": "OayJ893bG665",
        "execution": {
          "iopub.status.busy": "2023-11-28T05:05:04.065017Z",
          "iopub.execute_input": "2023-11-28T05:05:04.065281Z",
          "iopub.status.idle": "2023-11-28T05:05:04.070079Z",
          "shell.execute_reply.started": "2023-11-28T05:05:04.065247Z",
          "shell.execute_reply": "2023-11-28T05:05:04.069352Z"
        },
        "trusted": true
      },
      "execution_count": null,
      "outputs": []
    },
    {
      "cell_type": "markdown",
      "source": [
        "## One-hot Encoding\n",
        "**transform categorical variables into a form that could be provided by ML algorithms to do a better prediction.**"
      ],
      "metadata": {
        "id": "svjroAn8KInZ"
      }
    },
    {
      "cell_type": "code",
      "source": [
        "df = pd.get_dummies(df)\n",
        "\n",
        "# Drop columns\n",
        "df = df.drop(['Gender_Female', 'Married_No', 'Education_Not Graduate',\n",
        "              'Self_Employed_No', 'Loan_Status_N'], axis = 1)\n",
        "\n",
        "# Rename columns name\n",
        "new = {'Gender_Male': 'Gender', 'Married_Yes': 'Married',\n",
        "       'Education_Graduate': 'Education', 'Self_Employed_Yes': 'Self_Employed',\n",
        "       'Loan_Status_Y': 'Loan_Status'}\n",
        "\n",
        "df.rename(columns=new, inplace=True)"
      ],
      "metadata": {
        "id": "JPrZD3MHLBJO",
        "execution": {
          "iopub.status.busy": "2023-11-28T05:05:04.071161Z",
          "iopub.execute_input": "2023-11-28T05:05:04.071790Z",
          "iopub.status.idle": "2023-11-28T05:05:04.096996Z",
          "shell.execute_reply.started": "2023-11-28T05:05:04.071745Z",
          "shell.execute_reply": "2023-11-28T05:05:04.096142Z"
        },
        "trusted": true
      },
      "execution_count": null,
      "outputs": []
    },
    {
      "cell_type": "markdown",
      "source": [
        "## Remove Outliers & Infinite values\n",
        "**outliers will be removed**. <br>\n"
      ],
      "metadata": {
        "id": "4xekDiffkIIb"
      }
    },
    {
      "cell_type": "code",
      "source": [
        "Q1 = df.quantile(0.25)\n",
        "Q3 = df.quantile(0.75)\n",
        "IQR = Q3 - Q1\n",
        "\n",
        "df = df[~((df < (Q1 - 1.5 * IQR)) |(df > (Q3 + 1.5 * IQR))).any(axis=1)]"
      ],
      "metadata": {
        "id": "7xXzLUK4kHsf",
        "execution": {
          "iopub.status.busy": "2023-11-28T05:05:04.098511Z",
          "iopub.execute_input": "2023-11-28T05:05:04.099195Z",
          "iopub.status.idle": "2023-11-28T05:05:04.114930Z",
          "shell.execute_reply.started": "2023-11-28T05:05:04.099144Z",
          "shell.execute_reply": "2023-11-28T05:05:04.113918Z"
        },
        "trusted": true
      },
      "execution_count": null,
      "outputs": []
    },
    {
      "cell_type": "markdown",
      "source": [
        "## Skewed Distribution Treatment\n",
        "**Distribution for ApplicantIncome, CoapplicantIncome, and LoanAmount is positively skewed**. <br>\n",
        "I will use **square root transformation** to normalized the distribution."
      ],
      "metadata": {
        "id": "r7hJ7w6dMlZk"
      }
    },
    {
      "cell_type": "code",
      "source": [
        "# Square Root Transformation\n",
        "\n",
        "df.ApplicantIncome = np.sqrt(df.ApplicantIncome)\n",
        "df.CoapplicantIncome = np.sqrt(df.CoapplicantIncome)\n",
        "df.LoanAmount = np.sqrt(df.LoanAmount)"
      ],
      "metadata": {
        "id": "fMwoGg5BOKjo",
        "execution": {
          "iopub.status.busy": "2023-11-28T05:05:04.116601Z",
          "iopub.execute_input": "2023-11-28T05:05:04.117039Z",
          "iopub.status.idle": "2023-11-28T05:05:04.126398Z",
          "shell.execute_reply.started": "2023-11-28T05:05:04.116955Z",
          "shell.execute_reply": "2023-11-28T05:05:04.125440Z"
        },
        "trusted": true
      },
      "execution_count": null,
      "outputs": []
    },
    {
      "cell_type": "code",
      "source": [
        "sns.set(style=\"darkgrid\")\n",
        "fig, axs = plt.subplots(2, 2, figsize=(10, 8))\n",
        "\n",
        "sns.histplot(data=df, x=\"ApplicantIncome\", kde=True, ax=axs[0, 0], color='green')\n",
        "sns.histplot(data=df, x=\"CoapplicantIncome\", kde=True, ax=axs[0, 1], color='skyblue')\n",
        "sns.histplot(data=df, x=\"LoanAmount\", kde=True, ax=axs[1, 0], color='orange');"
      ],
      "metadata": {
        "id": "5z_EKO1ITgTU",
        "outputId": "ec4e5ce5-f52f-49e0-bcf2-ef196960de2d",
        "execution": {
          "iopub.status.busy": "2023-11-28T05:05:04.127682Z",
          "iopub.execute_input": "2023-11-28T05:05:04.128290Z",
          "iopub.status.idle": "2023-11-28T05:05:05.099771Z",
          "shell.execute_reply.started": "2023-11-28T05:05:04.128236Z",
          "shell.execute_reply": "2023-11-28T05:05:05.098700Z"
        },
        "trusted": true
      },
      "execution_count": null,
      "outputs": [
        {
          "output_type": "display_data",
          "data": {
            "text/plain": "<Figure size 720x576 with 4 Axes>",
            "image/png": "[encoded data removed]"
          },
          "metadata": {}
        }
      ]
    },
    {
      "cell_type": "markdown",
      "source": [
        "As can be seen, the distribution after using log transformation are much better compared to original distribution."
      ],
      "metadata": {
        "id": "RF-7s2avUipu"
      }
    },
    {
      "cell_type": "markdown",
      "source": [
        "## Features Separating\n",
        "Dependent features (Loan_Status) will be seperated from independent features."
      ],
      "metadata": {
        "id": "E6V0WTjKgwFj"
      }
    },
    {
      "cell_type": "code",
      "source": [
        "X = df.drop([\"Loan_Status\"], axis=1)\n",
        "y = df[\"Loan_Status\"]"
      ],
      "metadata": {
        "id": "sJJVP_kPhZh1",
        "execution": {
          "iopub.status.busy": "2023-11-28T05:05:05.101529Z",
          "iopub.execute_input": "2023-11-28T05:05:05.102115Z",
          "iopub.status.idle": "2023-11-28T05:05:05.108198Z",
          "shell.execute_reply.started": "2023-11-28T05:05:05.102064Z",
          "shell.execute_reply": "2023-11-28T05:05:05.107429Z"
        },
        "trusted": true
      },
      "execution_count": null,
      "outputs": []
    },
    {
      "cell_type": "markdown",
      "source": [
        "## SMOTE Technique\n",
        "**the number between approved and rejected loan is imbalanced**. In this section, **oversampling technique will be used to avoid overfitting**,"
      ],
      "metadata": {
        "id": "UpuBMRbEUx5n"
      }
    },
    {
      "cell_type": "code",
      "source": [
        "X, y = SMOTE().fit_resample(X, y)"
      ],
      "metadata": {
        "id": "FRrTxXZNU7Wg",
        "execution": {
          "iopub.status.busy": "2023-11-28T05:05:05.109586Z",
          "iopub.execute_input": "2023-11-28T05:05:05.110277Z",
          "iopub.status.idle": "2023-11-28T05:05:05.130769Z",
          "shell.execute_reply.started": "2023-11-28T05:05:05.110227Z",
          "shell.execute_reply": "2023-11-28T05:05:05.129174Z"
        },
        "trusted": true
      },
      "execution_count": null,
      "outputs": []
    },
    {
      "cell_type": "code",
      "source": [
        "sns.set_theme(style=\"darkgrid\")\n",
        "sns.countplot(y=y, data=df, palette=\"coolwarm\")\n",
        "plt.ylabel('Loan Status')\n",
        "plt.xlabel('Total')\n",
        "plt.show()"
      ],
      "metadata": {
        "id": "RVpxywzMzbQb",
        "outputId": "3b016bfb-0075-4b26-ee4a-88e5e59acfbf",
        "execution": {
          "iopub.status.busy": "2023-11-28T05:05:05.132948Z",
          "iopub.execute_input": "2023-11-28T05:05:05.133644Z",
          "iopub.status.idle": "2023-11-28T05:05:05.345510Z",
          "shell.execute_reply.started": "2023-11-28T05:05:05.133594Z",
          "shell.execute_reply": "2023-11-28T05:05:05.344559Z"
        },
        "trusted": true
      },
      "execution_count": null,
      "outputs": [
        {
          "output_type": "display_data",
          "data": {
            "text/plain": "<Figure size 432x288 with 1 Axes>",
            "image/png": "[encoded data removed]"
          },
          "metadata": {}
        }
      ]
    },
    {
      "cell_type": "markdown",
      "source": [
        "## Data Normalization\n",
        " **to normalize the range of independent variables or features of data**."
      ],
      "metadata": {
        "id": "deRoCdMn0Y4S"
      }
    },
    {
      "cell_type": "code",
      "source": [
        "X = MinMaxScaler().fit_transform(X)"
      ],
      "metadata": {
        "id": "WmA2qj9y0Yqo",
        "execution": {
          "iopub.status.busy": "2023-11-28T05:05:05.346734Z",
          "iopub.execute_input": "2023-11-28T05:05:05.347012Z",
          "iopub.status.idle": "2023-11-28T05:05:05.357447Z",
          "shell.execute_reply.started": "2023-11-28T05:05:05.346956Z",
          "shell.execute_reply": "2023-11-28T05:05:05.356553Z"
        },
        "trusted": true
      },
      "execution_count": null,
      "outputs": []
    },
    {
      "cell_type": "code",
      "source": [
        "X_train, X_test, y_train, y_test = train_test_split(X, y, test_size = 0.2, random_state = 0)"
      ],
      "metadata": {
        "id": "sfenUwlr3c2Y",
        "execution": {
          "iopub.status.busy": "2023-11-28T05:05:05.358863Z",
          "iopub.execute_input": "2023-11-28T05:05:05.359168Z",
          "iopub.status.idle": "2023-11-28T05:05:05.367482Z",
          "shell.execute_reply.started": "2023-11-28T05:05:05.359132Z",
          "shell.execute_reply": "2023-11-28T05:05:05.366409Z"
        },
        "trusted": true
      },
      "execution_count": null,
      "outputs": []
    },
    {
      "cell_type": "markdown",
      "source": [
        "## Logistic Regression"
      ],
      "metadata": {
        "id": "MS0qL8PC4K3o"
      }
    },
    {
      "cell_type": "code",
      "source": [
        "LRclassifier = LogisticRegression(solver='saga', max_iter=500, random_state=1)\n",
        "LRclassifier.fit(X_train, y_train)\n",
        "\n",
        "y_pred = LRclassifier.predict(X_test)\n",
        "LRAcc = accuracy_score(y_pred,y_test)\n",
        "\n",
        "cm=confusion_matrix(y_test, y_pred)\n",
        "plt.figure(figsize=(8, 6))\n",
        "sns.heatmap(cm, annot=True, fmt='d', cmap='Blues', cbar=False)\n",
        "plt.title('Logistic Regression')\n",
        "plt.xlabel('Predicted')\n",
        "plt.ylabel('Actual')\n",
        "plt.show()\n",
        "print('Gradient Boosting accuracy: {:.2f}%'.format(LRAcc*100))"
      ],
      "metadata": {
        "id": "Xa5A1VSf4Fgu",
        "outputId": "8b03e79f-86a0-4abf-c15e-47db0f151b0c",
        "execution": {
          "iopub.status.busy": "2023-11-28T05:05:05.369196Z",
          "iopub.execute_input": "2023-11-28T05:05:05.369766Z",
          "iopub.status.idle": "2023-11-28T05:05:05.547986Z",
          "shell.execute_reply.started": "2023-11-28T05:05:05.369717Z",
          "shell.execute_reply": "2023-11-28T05:05:05.547155Z"
        },
        "trusted": true
      },
      "execution_count": null,
      "outputs": [
        {
          "output_type": "display_data",
          "data": {
            "text/plain": "<Figure size 576x432 with 1 Axes>",
            "image/png": "[encoded data removed]"
          },
          "metadata": {}
        },
        {
          "name": "stdout",
          "text": "Gradient Boosting accuracy: 71.11%\n",
          "output_type": "stream"
        }
      ]
    },
    {
      "cell_type": "code",
      "source": [
        "RFclassifier = RandomForestClassifier(n_estimators = 1000, random_state = 1, max_leaf_nodes=i)\n",
        "RFclassifier.fit(X_train, y_train)\n",
        "\n",
        "y_pred=RFclassifier.predict(X_test)\n",
        "RfAcc = accuracy_score(y_pred,y_test)\n",
        "\n",
        "\n",
        "cm=confusion_matrix(y_test, y_pred)\n",
        "plt.figure(figsize=(8, 6))\n",
        "sns.heatmap(cm, annot=True, fmt='d', cmap='Blues', cbar=False)\n",
        "plt.title('Random Forest Classifier')\n",
        "plt.xlabel('Predicted')\n",
        "plt.ylabel('Actual')\n",
        "plt.show()\n",
        "print('Gradient Boosting accuracy: {:.2f}%'.format(RfAcc*100))"
      ],
      "metadata": {
        "id": "TnLwqYnP9pD7",
        "outputId": "1f94c144-81b1-4f57-973f-e150b09a656b",
        "execution": {
          "iopub.status.busy": "2023-11-28T05:05:05.549472Z",
          "iopub.execute_input": "2023-11-28T05:05:05.549718Z",
          "iopub.status.idle": "2023-11-28T05:05:07.362984Z",
          "shell.execute_reply.started": "2023-11-28T05:05:05.549688Z",
          "shell.execute_reply": "2023-11-28T05:05:07.362022Z"
        },
        "trusted": true
      },
      "execution_count": null,
      "outputs": [
        {
          "output_type": "display_data",
          "data": {
            "text/plain": "<Figure size 576x432 with 1 Axes>",
            "image/png": "[encoded data removed]"
          },
          "metadata": {}
        },
        {
          "name": "stdout",
          "text": "Gradient Boosting accuracy: 88.89%\n",
          "output_type": "stream"
        }
      ]
    },
    {
      "cell_type": "code",
      "source": [
        "GBclassifier = GradientBoostingClassifier(subsample=0.5, n_estimators=400, max_depth=4, max_leaf_nodes=10)\n",
        "GBclassifier.fit(X_train, y_train)\n",
        "\n",
        "y_pred = GBclassifier.predict(X_test)\n",
        "GBAcc = accuracy_score(y_pred,y_test)\n",
        "\n",
        "\n",
        "cm=confusion_matrix(y_test, y_pred)\n",
        "plt.figure(figsize=(8, 6))\n",
        "sns.heatmap(cm, annot=True, fmt='d', cmap='Blues', cbar=False)\n",
        "plt.title('Confusion Matrix - Gradient Boosting')\n",
        "plt.xlabel('Predicted')\n",
        "plt.ylabel('Actual')\n",
        "plt.show()\n",
        "print('Gradient Boosting accuracy: {:.2f}%'.format(GBAcc*100))"
      ],
      "metadata": {
        "id": "anLZFMBWAPAG",
        "outputId": "07469f40-36a5-4153-d89a-973409f384e2",
        "execution": {
          "iopub.status.busy": "2023-11-28T05:05:07.364169Z",
          "iopub.execute_input": "2023-11-28T05:05:07.364392Z",
          "iopub.status.idle": "2023-11-28T05:05:07.881348Z",
          "shell.execute_reply.started": "2023-11-28T05:05:07.364364Z",
          "shell.execute_reply": "2023-11-28T05:05:07.880379Z"
        },
        "trusted": true
      },
      "execution_count": null,
      "outputs": [
        {
          "output_type": "display_data",
          "data": {
            "text/plain": "<Figure size 576x432 with 1 Axes>",
            "image/png": "[encoded data removed]"
          },
          "metadata": {}
        },
        {
          "name": "stdout",
          "text": "Gradient Boosting accuracy: 82.22%\n",
          "output_type": "stream"
        }
      ]
    }
  ]
}